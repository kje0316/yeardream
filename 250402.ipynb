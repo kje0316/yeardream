{
 "cells": [
  {
   "cell_type": "markdown",
   "id": "51184b17-0091-4138-8c7d-b45823a37bf5",
   "metadata": {},
   "source": [
    "# 0402 수"
   ]
  },
  {
   "cell_type": "markdown",
   "id": "f3aabc0f-2500-46ea-aef9-5007537c8e4e",
   "metadata": {
    "jp-MarkdownHeadingCollapsed": true
   },
   "source": [
    "### ✅ 자료구조 (Data Structure)와 추상적 자료형 (ADT)\n",
    "\n",
    "#### 📌 자료구조 (Data Structure)\n",
    "- 데이터를 **효율적으로 저장하고 관리**하기 위한 구조\n",
    "- 다양한 자료구조를 통해 **삽입, 삭제, 탐색, 정렬** 등의 연산을 빠르게 처리할 수 있음\n",
    "- 예시: 배열, 연결 리스트, 스택, 큐, 트리, 그래프 등\n",
    "\n",
    "#### 📌 추상적 자료형 (ADT: Abstract Data Type)\n",
    "- **자료(data)**와 그 자료를 **조작하는 방법(연산)**을 **추상화**한 것\n",
    "- **사용 방법만 정의하고**, 구현 방식은 숨김\n",
    "- 목적: 복잡한 구현 대신 **일관된 인터페이스 제공**\n",
    "- 예시: 리스트(List), 스택(Stack), 큐(Queue) 등의 ADT는 각각의 삽입/삭제/조회 연산이 정의되어 있음\n",
    "\n",
    "> 🔍 정리:  \n",
    "> - **ADT**는 \"무엇을 할 수 있는가?\"에 초점  \n",
    "> - **자료구조**는 ADT를 실제로 \"어떻게 구현할 것인가?\"에 초점"
   ]
  },
  {
   "cell_type": "markdown",
   "id": "66fda446-8500-4da3-aebc-56415c9919a9",
   "metadata": {},
   "source": [
    "### ✅ 배열과 연결 리스트 정리\n",
    "\n",
    "#### 📌 리스트 (추상적 자료형: ADT)\n",
    "- **정의**: 순서가 있는 일렬의 자료들을 다루는 구조\n",
    "- **연산**\n",
    "  - **조회**: 특정 위치의 값을 알아본다\n",
    "  - **삽입**: 임의 위치에 값을 추가\n",
    "  - **삭제**: 임의 위치의 값을 제거\n",
    "- 구현 방법: **배열(Array)** 또는 **연결 리스트(Linked List)**\n",
    "\n",
    "---\n",
    "\n",
    "#### 📗 배열 (Array)\n",
    "- **특징**: 각 원소는 인덱스를 가지며, **연속된 메모리 공간**에 저장됨\n",
    "- **장점**: 인덱스를 이용한 **빠른 조회**\n",
    "- **단점**: 삽입/삭제 시 자료를 **이동**시켜야 하므로 **비효율적**\n",
    "\n",
    "##### 🔹 배열의 연산\n",
    "- **조회**\n",
    "  - 인덱스로 직접 접근 → 빠름 (`O(1)`)\n",
    "- **삽입**\n",
    "  1. 공간 확보\n",
    "  2. 기존 자료를 한 칸씩 뒤로 밀기\n",
    "  3. 빈 칸에 값 삽입\n",
    "- **삭제**\n",
    "  1. 삭제할 위치 비우기\n",
    "  2. 뒤에 있는 값들을 한 칸씩 앞으로 당기기\n",
    "  3. 남은 공간 제거\n",
    "\n",
    "---\n",
    "\n",
    "#### 📘 연결 리스트 (Linked List)\n",
    "- **특징**: 각 원소는 **노드(node)** 형태, 포인터를 통해 서로 연결됨\n",
    "  - **노드 구성**:  \n",
    "    - 자료(data)  \n",
    "    - 포인터(next) → 다음 노드 참조\n",
    "- **장점**: 삽입/삭제가 포인터 조작만으로 가능 → **효율적**\n",
    "- **단점**: 순차 접근만 가능 → **조회 속도 느림**\n",
    "\n",
    "##### 🔹 연결 리스트의 연산\n",
    "- **조회**\n",
    "  - 헤드부터 차례대로 탐색 → 느림 (`O(n)`)\n",
    "- **삽입**\n",
    "  1. 새 노드 생성\n",
    "  2. 삽입 위치까지 이동\n",
    "  3. 새 노드의 `next` → 기존 노드의 `next`로\n",
    "  4. 기존 노드의 `next` → 새 노드로 변경\n",
    "- **삭제**\n",
    "  1. 삭제할 노드의 이전 노드 찾기\n",
    "  2. 이전 노드의 `next` → 삭제 노드의 `next`로 연결\n",
    "  3. 삭제 노드는 연결에서 제거 (필요시 메모리 해제)\n",
    "\n",
    "---\n",
    "\n",
    "#### 📊 배열 vs 연결 리스트 요약 비교\n",
    "\n",
    "| 항목       | 배열 (Array)                | 연결 리스트 (Linked List)         |\n",
    "|------------|-----------------------------|------------------------------------|\n",
    "| 저장 구조  | 연속된 메모리               | 포인터로 연결된 노드들             |\n",
    "| 조회 속도  | 빠름 (`O(1)`)               | 느림 (`O(n)`)                      |\n",
    "| 삽입/삭제  | 느림 (자료 이동 필요)       | 빠름 (포인터 조작)                 |\n",
    "| 공간 관리  | 고정/선형 확장              | 동적 (필요한 만큼만 사용)         |\n",
    "\n",
    "\n"
   ]
  },
  {
   "cell_type": "markdown",
   "id": "7bfa5fb0-80d9-4cdc-b300-18a629485431",
   "metadata": {},
   "source": [
    "### ✅ 자료구조의 구현 방법\n",
    "\n",
    "- 자료구조는 **추상적 자료형(ADT)**에 명시된 **자료 표현**과 **연산 방법**을 실제로 구현한 것\n",
    "- 객체지향 프로그래밍에서:\n",
    "  - **추상적 자료형 (ADT)** → `인터페이스`\n",
    "  - **자료구조** → `클래스`\n",
    "\n",
    "---\n",
    "\n",
    "### 📘 인터페이스란?\n",
    "\n",
    "- **정의**: 추상 메서드만 포함된 **설계용 클래스**\n",
    "- 실제 동작은 없고, **명세(기능 선언)**만 제공\n",
    "- **구현은 상속받은 클래스에서** 직접 정의해야 함\n",
    "\n",
    "예시:\n",
    "```python\n",
    "from abc import ABCMeta, abstractmethod\n",
    "\n",
    "class MyInterface(metaclass=ABCMeta):  # 추상 클래스\n",
    "    @abstractmethod\n",
    "    def func(self):\n",
    "        pass"
   ]
  },
  {
   "cell_type": "code",
   "execution_count": 2,
   "id": "56d6d778-917e-4ac7-bf56-b656d5364c80",
   "metadata": {},
   "outputs": [
    {
     "name": "stdin",
     "output_type": "stream",
     "text": [
      " 9\n",
      " 0 1\n",
      " 0 2\n",
      " 0 4\n",
      " 0 5\n",
      " 2\n"
     ]
    },
    {
     "name": "stdout",
     "output_type": "stream",
     "text": [
      "5\n"
     ]
    },
    {
     "name": "stdin",
     "output_type": "stream",
     "text": [
      " 1 5\n",
      " 2\n"
     ]
    },
    {
     "name": "stdout",
     "output_type": "stream",
     "text": [
      "4\n"
     ]
    },
    {
     "name": "stdin",
     "output_type": "stream",
     "text": [
      " 1 2\n",
      " 2\n"
     ]
    },
    {
     "name": "stdout",
     "output_type": "stream",
     "text": [
      "4\n"
     ]
    }
   ],
   "source": [
    "#최대값 기계 \n",
    "class maxMachine:\n",
    "    def __init__(self):\n",
    "        self.numbers = []\n",
    "    def addNumber(self, n):\n",
    "        self.numbers.append(n)    \n",
    "    def removeNumber(self, n):\n",
    "        self.numbers.remove(n)\n",
    "    def getMax(self):\n",
    "        return max(self.numbers)\n",
    "\n",
    "\n",
    "# from maxMachine import maxMachine\n",
    "\n",
    "def main():\n",
    "\n",
    "    myMachine = maxMachine()\n",
    "\n",
    "    n = int(input())\n",
    "    \n",
    "    for i in range(n) :\n",
    "        line = [int(v) for v in input().split()]\n",
    "        if line[0] == 0 :\n",
    "            myMachine.addNumber(line[1])\n",
    "        elif line[0] == 1 :\n",
    "            myMachine.removeNumber(line[1])\n",
    "        elif line[0] == 2 :\n",
    "            print(myMachine.getMax())\n",
    "            \n",
    "if __name__ == \"__main__\":\n",
    "    main()\n"
   ]
  },
  {
   "cell_type": "code",
   "execution_count": 30,
   "id": "268377fb-632f-4f61-ba98-00472ace157f",
   "metadata": {
    "scrolled": true
   },
   "outputs": [
    {
     "name": "stdin",
     "output_type": "stream",
     "text": [
      " 3\n",
      " 1 0\n",
      " 2 1\n",
      " 3 0\n"
     ]
    },
    {
     "name": "stdout",
     "output_type": "stream",
     "text": [
      "3 1 2\n"
     ]
    }
   ],
   "source": [
    "#1-8. 실습2 - 구슬 넣기(배열)\n",
    "class ListPipe:\n",
    "    def __init__(self):\n",
    "        self.myPipe = []\n",
    "    def addLeft(self, n):\n",
    "        self.myPipe.insert(0,n)\n",
    "    def addRight(self, n):\n",
    "        self.myPipe.append(n)\n",
    "    def getBeads(self):\n",
    "        return self.myPipe\n",
    "        \n",
    "#a 0=> 왼쪽에 넣기 / b 1=> 오른쪽에 넣기 \n",
    "\n",
    "def processBeads(myInput):\n",
    "    # [[1,0],[2,1],[3,0]]\n",
    "    myPipe = ListPipe()\n",
    "    for i in range(len(myInput)):\n",
    "        if myInput[i][1] == 0:\n",
    "            myPipe.addLeft(myInput[i][0])\n",
    "        else:\n",
    "            myPipe.addRight(myInput[i][0])\n",
    "    result = myPipe.getBeads()\n",
    "\n",
    "    return result\n",
    "\n",
    "##########\n",
    "def main():\n",
    "    n = int(input())\n",
    "    myList = []\n",
    "\n",
    "    for i in range(n):\n",
    "        myList.append([int(v) for v in input().split()])\n",
    "\n",
    "    print(*processBeads(myList))\n",
    "if __name__ == \"__main__\":\n",
    "    main()"
   ]
  },
  {
   "cell_type": "code",
   "execution_count": 31,
   "id": "4cf898a3-6de0-4352-8e7b-d533398eb7c7",
   "metadata": {},
   "outputs": [
    {
     "name": "stdout",
     "output_type": "stream",
     "text": [
      "10\n",
      "20\n",
      "30\n"
     ]
    }
   ],
   "source": [
    "class LinkedListElement: #노드 - (값, 다음 위치)\n",
    "    def __init__(self, val, ptr):\n",
    "        self.value = val\n",
    "        self.myNext = ptr\n",
    "\n",
    "node1 = LinkedListElement(10, None)\n",
    "node2 = LinkedListElement(20, None)\n",
    "node1.myNext = node2\n",
    "node3 = LinkedListElement(30, None)\n",
    "node2.myNext =node3\n",
    "\n",
    "current = node1\n",
    "while current.myNext is not None:\n",
    "    print(current.value)\n",
    "    current = current.myNext\n",
    "print(current.value)"
   ]
  },
  {
   "cell_type": "code",
   "execution_count": 36,
   "id": "be884dc8-32e8-42c7-841f-513690985466",
   "metadata": {},
   "outputs": [],
   "source": [
    "#1-9. 실습3 구슬 넣기(연결 리스트)\n",
    "class LinkedListElement : #노드 - (값, 다음 위치)\n",
    "    def __init__(self, val, ptr):\n",
    "        self.value = val\n",
    "        self.myNext = ptr\n",
    "\n",
    "class LinkedListPipe:\n",
    "    def __init__(self):\n",
    "        #리스트 myPipe를 만듭니다. 구슬의 배치를 저장\n",
    "        self.start = None #연결리스트 시작점\n",
    "        self.end = None #연결리스트 끝점\n",
    "    \n",
    "    def addLeft(self, n):\n",
    "        #맨처음(리스트에 시작 끝이 없을 때)\n",
    "        if self.start is None and self.end is None:\n",
    "            element = LinkedListElement(n, None)\n",
    "            self.start = element #노드 다음을 원래 있던 처음 노드에 연결\n",
    "            self.end = element #리스트 파이프의 첫 시작을 만든 노드\n",
    "        else: #시작 노드나 끝 노드가 있을 때 \n",
    "            element = LinkedListElement(n, self.start) #노드 다음을 원래 있던 \n",
    "            self.start = element #리스트 파이프의 첫 시작을 만든 노드\n",
    "    \n",
    "    def addRight(self, n):\n",
    "        if self.start is None and self.end is None:\n",
    "            element = LinkedListElement(n, None)\n",
    "            self.start  = element\n",
    "            self.end = element\n",
    "        else:\n",
    "            element = LinkedListElement(n, None)\n",
    "            self.end.myNext = element\n",
    "            self.end = element\n",
    "            \n",
    "    def getBeads(self):\n",
    "        beeds = []\n",
    "        current = self.start\n",
    "        # while current.myNext is not None:\n",
    "        while self.start is not None and current != self.end:\n",
    "            beeds.append(current.value)\n",
    "            current = current.myNext\n",
    "        beeds.append(current.value)\n",
    "        return beeds\n",
    "        \n",
    "            \n",
    "#[1, 0] [2, 1] [3, 0]\n",
    "\n",
    "def processBeads(myInput):\n",
    "    myPipe = LinkedListPipe()\n",
    "    \n",
    "    result =[]\n",
    "    for i in range(len(myInput)):\n",
    "        if myInput[i][1] == 0:\n",
    "            myPipe.addLeft(myInput[i][0])\n",
    "        elif myInput[i][1] == 1:\n",
    "            myPipe.addRight(myInput[i][0])\n",
    "\n",
    "    result = myPipe.getBeads()\n",
    "\n",
    "    return result\n",
    "\n",
    "\n",
    "\n",
    "######\n",
    "def main():\n",
    "    n = int(input())\n",
    "    myList = []\n",
    "    for i in range(n):\n",
    "        myList.append([int(v) for v in input().split()])\n",
    "\n",
    "    print(*processBeads(myList))\n",
    "\n",
    "if __name__ == \"__main__\":\n",
    "    main()"
   ]
  },
  {
   "cell_type": "markdown",
   "id": "e9e2acbb-b1b8-4ffa-8bda-6f71b78008e4",
   "metadata": {},
   "source": [
    "시간 복잡도 : 알고리즘이 문제를 해결하는 데 걸리는 시간을 정량화하여 나타낼 수 있는 방법. 일반적으로 문제에서 주어지는 최악의 경우에 대한 소요 시간을 나타내는 데 사용\n",
    "\n",
    "배열에서 삽입 시간 복잡도 : O(n(n+1)/2)\n",
    "연결리스트에서 삽입 시간 복잡도 : O(n)\n",
    "\n",
    "\n",
    "해시 테이블 : 각 데이터(value)를 고유한 Key에 대응하도록 저장하는 개념\n"
   ]
  },
  {
   "cell_type": "code",
   "execution_count": null,
   "id": "b4998290-e2e6-4993-8771-fc69a4cc7274",
   "metadata": {},
   "outputs": [],
   "source": [
    "#3-1-10. 실습4 - 내림차순 정렬하기 \n",
    "class maxMachine:\n",
    "    def __init__(self):\n",
    "        self.numbers = []\n",
    "    def addNumber(self, n):\n",
    "        self.numbers.append(n)    \n",
    "    def removeNumber(self, n):\n",
    "        self.numbers.remove(n)\n",
    "    def getMax(self):\n",
    "        return max(self.numbers)\n",
    "\n",
    "def sorting(myList):\n",
    "    "
   ]
  },
  {
   "cell_type": "markdown",
   "id": "13355610-105a-4a6e-a275-b685ee4fa36f",
   "metadata": {},
   "source": [
    "# 02. 스택과 큐"
   ]
  },
  {
   "cell_type": "markdown",
   "id": "6e722cac-24d6-46f2-9228-72bee00585f1",
   "metadata": {},
   "source": []
  },
  {
   "cell_type": "code",
   "execution_count": 43,
   "id": "fd38dfab-5605-46c8-80dd-a1a5b6eae533",
   "metadata": {},
   "outputs": [],
   "source": [
    "#3-2-4. 실습1 - 스택 구현하기 \n",
    "\n",
    "class Stack:\n",
    "    def __init__(self):\n",
    "        self.myStack = []\n",
    "    \n",
    "    def push(self, n):\n",
    "        self.myStack.append(n)\n",
    "        \n",
    "    def pop(self):\n",
    "        if self.empty() == 1:\n",
    "            return \n",
    "        self.myStack.pop()\n",
    "        \n",
    "    def size(self):\n",
    "        return len(self.myStack)\n",
    "\n",
    "    def empty(self):\n",
    "        if len(self.myStack) == 0:\n",
    "            return 1\n",
    "        else:\n",
    "            return 0\n",
    "            \n",
    "    def top(self):\n",
    "        if self.empty() == 1:\n",
    "            return -1\n",
    "        else:\n",
    "            return self.myStack[-1]  \n",
    "\n",
    "########\n",
    "# from stack import Stack\n",
    "\n",
    "def main():\n",
    "    stack = Stack()\n",
    "\n",
    "    n = int(input())\n",
    "\n",
    "    for i in range(n) :\n",
    "        temp = [int(v) for v in input().split()]\n",
    "        \n",
    "        x = temp[0]\n",
    "        \n",
    "        if x == 1 :\n",
    "            stack.push(temp[1])\n",
    "        elif x == 2 :\n",
    "            stack.pop()\n",
    "        elif x == 3 :\n",
    "            print(stack.size())\n",
    "        elif x == 4 :\n",
    "            print(stack.empty())\n",
    "        elif x == 5 :\n",
    "            print(stack.top())\n",
    "\n",
    "\n",
    "if __name__ == \"__main__\":\n",
    "    main()\n"
   ]
  },
  {
   "cell_type": "code",
   "execution_count": 47,
   "id": "671fa9d2-c410-41e6-8868-6236c73f2d22",
   "metadata": {},
   "outputs": [
    {
     "name": "stdin",
     "output_type": "stream",
     "text": [
      " 8\n",
      " 1 1\n",
      " 1 2\n",
      " 2\n",
      " 1 4\n",
      " 2\n",
      " 3\n"
     ]
    },
    {
     "name": "stdout",
     "output_type": "stream",
     "text": [
      "1\n"
     ]
    },
    {
     "name": "stdin",
     "output_type": "stream",
     "text": [
      " 5\n"
     ]
    },
    {
     "name": "stdout",
     "output_type": "stream",
     "text": [
      "4\n"
     ]
    },
    {
     "name": "stdin",
     "output_type": "stream",
     "text": [
      " 4\n"
     ]
    },
    {
     "name": "stdout",
     "output_type": "stream",
     "text": [
      "0\n"
     ]
    }
   ],
   "source": [
    "#실습2 - 큐 구현하기 \n",
    "class Queue:\n",
    "    def __init__(self):\n",
    "        self.myQueue = []\n",
    "        \n",
    "    def push(self, n):\n",
    "        self.myQueue.append(n)\n",
    "        \n",
    "    def pop(self):\n",
    "        if self.empty() != 1:\n",
    "            self.myQueue.pop(0)\n",
    "        else:\n",
    "            return \n",
    "    def size(self):\n",
    "        return len(self.myQueue)\n",
    "        \n",
    "    def empty(self):\n",
    "        if len(self.myQueue) == 0: ## 비어있으면 1\n",
    "            return 1\n",
    "        else:\n",
    "            return 0\n",
    "\n",
    "    def front(self):\n",
    "        if self.empty() != 1:\n",
    "            return self.myQueue[0]\n",
    "        else:\n",
    "            return -1\n",
    "            \n",
    "    def back(self):\n",
    "        if self.empty() != 1:\n",
    "            return self.myQueue[-1]\n",
    "        else:\n",
    "            return -1\n",
    "\n",
    "#######\n",
    "def main():\n",
    "    queue = Queue()\n",
    "\n",
    "    n = int(input())\n",
    "    \n",
    "    for i in range(n) :\n",
    "        temp = [int(v) for v in input().split()]\n",
    "        x = int(temp[0])\n",
    "        if x == 1 :\n",
    "            queue.push(temp[1])\n",
    "        elif x == 2 :\n",
    "            queue.pop()\n",
    "        elif x == 3 :\n",
    "            print(queue.size())\n",
    "        elif x == 4 :\n",
    "            print(queue.empty())\n",
    "        elif x == 5 :\n",
    "            print(queue.front())\n",
    "        elif x == 6 :\n",
    "            print(queue.back())\n",
    "\n",
    "\n",
    "######\n",
    "\n",
    "def main():\n",
    "    queue = Queue()\n",
    "\n",
    "    n = int(input())\n",
    "    \n",
    "    for i in range(n) :\n",
    "        temp = [int(v) for v in input().split()]\n",
    "        x = int(temp[0])\n",
    "        if x == 1 :\n",
    "            queue.push(temp[1])\n",
    "        elif x == 2 :\n",
    "            queue.pop()\n",
    "        elif x == 3 :\n",
    "            print(queue.size())\n",
    "        elif x == 4 :\n",
    "            print(queue.empty())\n",
    "        elif x == 5 :\n",
    "            print(queue.front())\n",
    "        elif x == 6 :\n",
    "            print(queue.back())\n",
    "\n",
    "\n",
    "if __name__ == \"__main__\":\n",
    "    main()\n"
   ]
  },
  {
   "cell_type": "code",
   "execution_count": 45,
   "id": "c7a6f254-86b9-40c8-a990-66893aa9e03d",
   "metadata": {},
   "outputs": [
    {
     "name": "stdin",
     "output_type": "stream",
     "text": [
      " (((())())(()())((())()))\n"
     ]
    },
    {
     "name": "stdout",
     "output_type": "stream",
     "text": [
      "YES\n"
     ]
    }
   ],
   "source": [
    "#실습3 -올바른 괄호인지 판단하기 \n",
    "\n",
    "class Stack:\n",
    "    def __init__(self):\n",
    "        self.myStack = []\n",
    "    \n",
    "    def push(self, n):\n",
    "        self.myStack.append(n)\n",
    "        \n",
    "    def pop(self):\n",
    "        if self.empty() == 1:\n",
    "            return \n",
    "        self.myStack.pop()\n",
    "        \n",
    "    def size(self):\n",
    "        return len(self.myStack)\n",
    "\n",
    "    def empty(self):\n",
    "        if len(self.myStack) == 0:\n",
    "            return 1\n",
    "        else:\n",
    "            return 0\n",
    "            \n",
    "    def top(self):\n",
    "        if self.empty() == 1:\n",
    "            return -1\n",
    "        else:\n",
    "            return self.myStack[-1]  \n",
    "\n",
    "\n",
    "def checkParen(p): \n",
    "    stack = Stack()\n",
    "    for str in p:\n",
    "        if str == '(':\n",
    "            stack.push(str) \n",
    "        \n",
    "        elif str == ')':\n",
    "            if stack.empty() == 1:\n",
    "                return \"NO\"\n",
    "            else:\n",
    "                stack.pop()\n",
    "    if stack.empty() == 1:\n",
    "        return \"YES\"\n",
    "    \n",
    "    else:\n",
    "        return \"NO\"\n",
    "\n",
    "####################\n",
    "def main():\n",
    " \n",
    "    x = input()\n",
    "    print(checkParen(x))\n",
    "\n",
    "if __name__ == \"__main__\":\n",
    "    main()\n"
   ]
  },
  {
   "cell_type": "code",
   "execution_count": 49,
   "id": "de0bb7f6-9639-4dd7-a1fd-8c9d4e3d7ffe",
   "metadata": {},
   "outputs": [
    {
     "name": "stdout",
     "output_type": "stream",
     "text": [
      "[0, 2, 5]\n"
     ]
    }
   ],
   "source": [
    "#2-8. 실습4- 계산 순서 정하기 \n",
    "#1) 스택 사용\n",
    "class Stack:\n",
    "    def __init__(self):\n",
    "        self.myStack = []\n",
    "    def push(self, n):\n",
    "        self.myStack.append(n)\n",
    "    def pop(self):\n",
    "        if self.empty() == 1:\n",
    "            return \n",
    "        self.myStack.pop()        \n",
    "    def size(self):\n",
    "        return len(self.myStack)\n",
    "    def empty(self):\n",
    "        if len(self.myStack) == 0:\n",
    "            return 1\n",
    "        else:\n",
    "            return 0            \n",
    "    def top(self):\n",
    "        if self.empty() == 1:\n",
    "            return -1\n",
    "        else:\n",
    "            return self.myStack[-1]  \n",
    "###(()())\n",
    "def find_order(p):\n",
    "    stack = Stack() #인스턴스 생성\n",
    "    pop_list = []\n",
    "    for i in range(len(p)):\n",
    "        if p[i] == '(':\n",
    "            stack.push(i) #0 1 3\n",
    "        else:\n",
    "            stack.pop()\n",
    "            stack.push(i)\n",
    "\n"
   ]
  },
  {
   "cell_type": "code",
   "execution_count": null,
   "id": "7d413415-931b-495d-a446-a05264af6ed6",
   "metadata": {},
   "outputs": [],
   "source": []
  }
 ],
 "metadata": {
  "kernelspec": {
   "display_name": "Python (study)",
   "language": "python",
   "name": "study"
  },
  "language_info": {
   "codemirror_mode": {
    "name": "ipython",
    "version": 3
   },
   "file_extension": ".py",
   "mimetype": "text/x-python",
   "name": "python",
   "nbconvert_exporter": "python",
   "pygments_lexer": "ipython3",
   "version": "3.8.18"
  }
 },
 "nbformat": 4,
 "nbformat_minor": 5
}
